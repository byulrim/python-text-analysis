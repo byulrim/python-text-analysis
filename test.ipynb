{
 "cells": [
  {
   "cell_type": "code",
   "execution_count": 27,
   "metadata": {},
   "outputs": [
    {
     "name": "stdout",
     "output_type": "stream",
     "text": [
      "first_loop: 0\n",
      "second_loop(j: 0, i: 0): 1\n",
      "second_loop(j: 1, i: 0): 4\n",
      "second_loop(j: 2, i: 0): 7\n",
      "first_loop: 1\n",
      "second_loop(j: 0, i: 1): 2\n",
      "second_loop(j: 1, i: 1): 5\n",
      "second_loop(j: 2, i: 1): 8\n",
      "first_loop: 2\n",
      "second_loop(j: 0, i: 2): 3\n",
      "second_loop(j: 1, i: 2): 6\n",
      "second_loop(j: 2, i: 2): 9\n"
     ]
    },
    {
     "data": {
      "text/plain": [
       "[[1, 4, 7], [2, 5, 8], [3, 6, 9]]"
      ]
     },
     "execution_count": 27,
     "metadata": {},
     "output_type": "execute_result"
    }
   ],
   "source": [
    "a_list = [[1, 2, 3], [4, 5, 6], [7, 8, 9]]\n",
    "\n",
    "b_list = []\n",
    "for i in range(len(a_list)):\n",
    "    temp_list = []\n",
    "    print(f\"first_loop: {i}\")\n",
    "    for j in range(len(a_list[i])):\n",
    "        temp_list.append(a_list[j][i])\n",
    "        print(f\"second_loop(j: {j}, i: {i}): {a_list[j][i]}\")\n",
    "    b_list.append(temp_list)\n",
    "\n",
    "b_list"
   ]
  }
 ],
 "metadata": {
  "kernelspec": {
   "display_name": "system_trading_py39_64",
   "language": "python",
   "name": "python3"
  },
  "language_info": {
   "codemirror_mode": {
    "name": "ipython",
    "version": 3
   },
   "file_extension": ".py",
   "mimetype": "text/x-python",
   "name": "python",
   "nbconvert_exporter": "python",
   "pygments_lexer": "ipython3",
   "version": "3.9.16"
  },
  "orig_nbformat": 4
 },
 "nbformat": 4,
 "nbformat_minor": 2
}
